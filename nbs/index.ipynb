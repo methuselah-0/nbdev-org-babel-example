{
  "cells": [
    {
      "cell_type": "markdown",
      "metadata": {},
      "source": [
        "# An nbdev-org-babel example\n",
        "\n",
        "> Literate Programming using nbdev, org-babel and emacs-jupyter"
      ]
    },
    {
      "cell_type": "markdown",
      "metadata": {},
      "source": [
        "# An nbdev-org-babel example\n",
        "\n",
        "> Literate Programming using nbdev, org-babel and emacs-jupyter"
      ]
    },
    {
      "cell_type": "markdown",
      "metadata": {},
      "source": [
        "## Installation\n\n"
      ]
    },
    {
      "cell_type": "markdown",
      "metadata": {},
      "source": [
        "There are currently (as of 2020-05-29) many unmentioned dependencies\nin nbdev-org-babel, such as ox-ipynb, xq, moreutils (sponge) and\nvarious emacs libraries. Checkout the bash script in the source code\nin nbdev-org-babel, to figure those out if you are missing some. I\nhope nbdev-org-babel gets rewritten in python and merged to fastai's\nnbdev master in some distant future.\n\nInstall procedure(assuming you have dependencies installed):\n\n`git clone https://github.com/methuselah-0/nbdev-org-babel.git`\n\n`cd to nbdev-org-babel`\n\n`pip install -e .`\n\n`cd ~/src`\n\n`nbdev_new my_new_project`\n\n`cd my_new_project`\n\ncreate an index.org file in your nbs<sub>path</sub> directory.\n\ncreate a directory inside the `nbs_path` directory with the same name as `lib_name` (as defined in settings.ini)\n\ncreate your literate program in `~/src/nbs_path/lib_name/my_project.org`\n\nFinally, run `nbdev_build_docs_from_org` which will create the needed\nlibrary and documentation for your project.\n\n"
      ]
    }
  ],
  "metadata": {
    "org": null,
    "kernelspec": {
      "display_name": "Python 3",
      "language": "python",
      "name": "python3"
    },
    "language_info": {
      "codemirror_mode": {
        "name": "ipython",
        "version": 3
      },
      "file_extension": ".py",
      "mimetype": "text/x-python",
      "name": "python",
      "nbconvert_exporter": "python",
      "pygments_lexer": "ipython3",
      "version": "3.5.2"
    }
  },
  "nbformat": 4,
  "nbformat_minor": 0
}
