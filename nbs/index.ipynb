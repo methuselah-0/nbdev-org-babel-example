{
 "cells": [
  {
   "cell_type": "markdown",
   "metadata": {},
   "source": [
    "# An nbdev-org-babel example\n",
    "\n",
    "> Literate Programming using nbdev, org-babel and emacs-jupyter"
   ]
  },
  {
   "cell_type": "markdown",
   "metadata": {},
   "source": [
    "# An nbdev-org-babel example\n",
    "\n",
    "> Literate Programming using nbdev, org-babel and emacs-jupyter"
   ]
  },
  {
   "cell_type": "markdown",
   "metadata": {},
   "source": [
    "## Installation\n\n"
   ]
  },
  {
   "cell_type": "markdown",
   "metadata": {},
   "source": [
    "See [this link](https://methuselah-0.github.io/nbdev-org-babel-example//) for the jekyll website documentation generated using\n`nbdev_build_docs_from_org`.\n\nThere are currently (as of 2020-05-29) many unmentioned dependencies\nin nbdev-org-babel, such as ox-ipynb, xq, moreutils (sponge) and\nvarious emacs libraries. Checkout the bash script in the source code\nin nbdev-org-babel, to figure those out if you are missing some. I\nhope nbdev-org-babel gets rewritten in python and merged to fastai's\nnbdev master in some distant future.\n\nInstall procedure(assuming you have dependencies installed):\n\n`git clone https://github.com/methuselah-0/nbdev-org-babel.git`\n\n`cd to nbdev-org-babel`\n\n`pip install -e .`\n\n`cd ~/src`\n\n`nbdev_new my_new_project`\n\n`cd my_new_project`\n\nEdit the settings.ini file as you normally would with any nbdev project.\n\nHowever, make sure that the following two settings correspond to the github repo name isntead of the defaults:\n\n`doc_baseurl = /nbdev-org-babel-example/`\n\n`git_url = https://github.com/%(user)s/nbdev-org-babel-example/tree/%(branch)s/`\n\ncreate an index.org file in your `nbs_path` directory.\n\ncreate a directory inside the `nbs_path` directory with the same name as `lib_name` (as defined in settings.ini)\n\ncreate your literate program in `/path/to/repo_name/nbs_path/lib_name/my_project.org`\n\ncreate index.org in `/path/to/repo_name/nbs_path/`.\n\nRun `nbdev_install_git_hooks`.\n\nFinally, run `nbdev_build_docs_from_org` which will create the needed\nlibrary and documentation for your project.\n\nNote that if you don't want to run the whole procedure from org-files,\nto ipynb files to building the docs, you can do for example\n`nbdev_build_docs --force_all '*'` to just rebuild the html docs from\ncurrent ipynb files.\n\nTo see the results of the `.github/workflows/main.yml` CI-definition;\n`Click Actions -> Click some commit-message -> Click Build in the left\npane -> Click the 3 dots in the upper right corner -> view raw logs`\n\nIf you are using some dependency packages, make sure to add those in\n`settings.ini` under requirements, e.g. `requirements = scipy>=1.4.1\nnumpy>=1.18.4 matplotlib>=3.2.1`.\n\nAlso, see [how to setup console scripts](https://nbdev.fast.ai/tutorial/#Set-up-console-scripts), and [how to upload your project\nto pypi](https://nbdev.fast.ai/tutorial/#Upload-to-pypi). However, you might find 2 problems out-of-the-box when\nrunning `make release`. In the Makefile from the nbdev template\nproject, you may need to change `python3 setup.py sdist bdist_wheel`\nto `python3 set...`. Secondly, you may need to install the wheel\nand twine packages: `pip install wheel`.\n\n"
   ]
  },
  {
   "cell_type": "markdown",
   "metadata": {},
   "source": [
    "## Emacs Python Setup Suggestions\n\n"
   ]
  },
  {
   "cell_type": "markdown",
   "metadata": {},
   "source": [
    "List of stuff that is useful for Python LP-programming in emacs:\n\n-   repl: interactively exploring and testing code (emacs-jupyter)\n-   version control (git)\n-   automatic check for the code's adherence to best practices and\n    syntax highlighting (flycheck-pycheckers)\n-   debugging, debugger (real-gud)\n-   code definition lookup (emacs-jupyter, ag)\n-   docs-generation (org-babel, nbdev, pandoc)\n-   code generation & completion (yasnippet, jedi)\n\n"
   ]
  }
 ],
 "metadata": {
  "kernelspec": {
   "display_name": "Python 3",
   "language": "python",
   "name": "python3"
  }
 },
 "nbformat": 4,
 "nbformat_minor": 0
}
