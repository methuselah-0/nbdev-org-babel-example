{
  "cells": [
    {
      "cell_type": "markdown",
      "metadata": {},
      "source": [
        "# An nbdev-org-babel example\n",
        "\n",
        "> Literate Programming using nbdev, org-babel and emacs-jupyter"
      ]
    },
    {
      "cell_type": "markdown",
      "metadata": {},
      "source": [
        "# An nbdev-org-babel example\n",
        "\n",
        "> Literate Programming using nbdev, org-babel and emacs-jupyter"
      ]
    },
    {
      "cell_type": "markdown",
      "metadata": {},
      "source": [
        "## Installation\n\n"
      ]
    },
    {
      "cell_type": "markdown",
      "metadata": {},
      "source": [
        "See [this link](https://methuselah-0.github.io/nbdev-org-babel-example//) for the jekyll website documentation generated using\n`nbdev_build_docs_from_org`.\n\nThere are currently (as of 2020-05-29) many unmentioned dependencies\nin nbdev-org-babel, such as ox-ipynb, xq, moreutils (sponge) and\nvarious emacs libraries. Checkout the bash script in the source code\nin nbdev-org-babel, to figure those out if you are missing some. I\nhope nbdev-org-babel gets rewritten in python and merged to fastai's\nnbdev master in some distant future.\n\nInstall procedure(assuming you have dependencies installed):\n\n`git clone https://github.com/methuselah-0/nbdev-org-babel.git`\n\n`cd to nbdev-org-babel`\n\n`pip install -e .`\n\n`cd ~/src`\n\n`nbdev_new my_new_project`\n\n`cd my_new_project`\n\nEdit the settings.ini file as you normally would with any nbdev project.\n\nHowever, make sure that the following two settings correspond to the github repo name isntead of the defaults:\n\n`doc_baseurl = /nbdev-org-babel-example/`\n\n`git_url = https://github.com/%(user)s/nbdev-org-babel-example/tree/%(branch)s/`\n\ncreate an index.org file in your nbs<sub>path</sub> directory.\n\ncreate a directory inside the `nbs_path` directory with the same name as `lib_name` (as defined in settings.ini)\n\ncreate your literate program in `~/src/nbs_path/lib_name/my_project.org`\n\nFinally, run `nbdev_build_docs_from_org` which will create the needed\nlibrary and documentation for your project.\n\nNote that if you don't want to run the whole procedure from org-files,\nto ipynb files to building the docs, you can do for example\n`nbdev_build_docs --force_all '*'` to just rebuild the html docs from\ncurrent ipynb files.\n\n"
      ]
    },
    {
      "cell_type": "markdown",
      "metadata": {},
      "source": [
        "## Emacs Python Setup Suggestions\n\n"
      ]
    },
    {
      "cell_type": "markdown",
      "metadata": {},
      "source": [
        "List of stuff that is useful for Python LP-programming in emacs:\n\n-   repl: interactively exploring and testing code (emacs-jupyter)\n-   version control (git)\n-   automatic check for the code's adherence to best practices and\n    syntax highlighting (flycheck-pycheckers)\n-   debugging, debugger (real-gud)\n-   code definition lookup (emacs-jupyter, ag)\n-   docs-generation (org-babel, nbdev, pandoc)\n-   code generation & completion (yasnippet, jedi)\n\n"
      ]
    }
  ],
  "metadata": {
    "org": null,
    "kernelspec": {
      "display_name": "Python 3",
      "language": "python",
      "name": "python3"
    },
    "language_info": {
      "codemirror_mode": {
        "name": "ipython",
        "version": 3
      },
      "file_extension": ".py",
      "mimetype": "text/x-python",
      "name": "python",
      "nbconvert_exporter": "python",
      "pygments_lexer": "ipython3",
      "version": "3.5.2"
    }
  },
  "nbformat": 4,
  "nbformat_minor": 0
}
