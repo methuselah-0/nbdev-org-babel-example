{
 "cells": [
  {
   "cell_type": "markdown",
   "metadata": {},
   "source": [
    "# An org-babel example package\n",
    "\n",
    "> Literate Programming using org-babel and emacs-jupyter"
   ]
  },
  {
   "cell_type": "markdown",
   "metadata": {},
   "source": [
    "# An org-babel example package\n",
    "\n",
    "> Literate Programming using org-babel and emacs-jupyter"
   ]
  },
  {
   "cell_type": "markdown",
   "metadata": {},
   "source": [
    "## A python package using org-babel and emacs-jupyter\n\n"
   ]
  },
  {
   "cell_type": "markdown",
   "metadata": {},
   "source": [
    "This example is adapted from the Readme of the package jupyter-mode,\n[ref](https://github.com/tmurph/jupyter-mode).\n\nThe goal is to show how to write a literate program that integrates a\nfunction and displays it, as well as how to package it so that its'\nlibrary functions can be used by other python programs.\n\n"
   ]
  },
  {
   "cell_type": "markdown",
   "metadata": {},
   "source": [
    "### Literate Module Pattern\n\n"
   ]
  },
  {
   "cell_type": "markdown",
   "metadata": {},
   "source": [
    "Using a properties-drawer we can accumulate individual source-blocks\nfrom all subheaders:\n\n    * testing emacs-jupyter special output\n      :PROPERTIES:\n      :header-args: :noweb-ref picture_output.lib\n      :END:\n\nNoweb-refs are then used to insert src-blocks:\n\n"
   ]
  },
  {
   "cell_type": "code",
   "execution_count": null,
   "metadata": {},
   "outputs": [],
   "source": [
    "# default_exp plotter.picture_output"
   ]
  },
  {
   "cell_type": "code",
   "execution_count": null,
   "metadata": {},
   "outputs": [],
   "source": [
    "# exports\n\"\"\"Use numpy and scipy to produce a picture\"\"\"\nfrom ob_example.utils.libutils import export\n# from ob_example.utils.libutils import export\nfrom scipy.integrate import quad\nimport numpy as np\nimport matplotlib.pyplot as plt"
   ]
  },
  {
   "cell_type": "markdown",
   "metadata": {},
   "source": [
    "### Main and Lib\n\n"
   ]
  },
  {
   "cell_type": "markdown",
   "metadata": {},
   "source": [
    "We put all the library functions after the imports:\n\n"
   ]
  },
  {
   "cell_type": "code",
   "execution_count": null,
   "metadata": {},
   "outputs": [],
   "source": [
    "# exports\n@export\ndef fun(x_num):\n    return (x_num-3)*(x_num-5)*(x_num-7)+85"
   ]
  },
  {
   "cell_type": "markdown",
   "metadata": {},
   "source": [
    "Tests:\n\n"
   ]
  },
  {
   "cell_type": "code",
   "execution_count": null,
   "metadata": {},
   "outputs": [],
   "source": [
    "from ob_example.plotter.picture_output import *\ndef test_fun():\n    \"\"\"Testing the base case for the integral\"\"\"\n    assert fun(3) == 85"
   ]
  },
  {
   "cell_type": "markdown",
   "metadata": {},
   "source": [
    "And finally the main code. We add pass in the pattern in case we don't\ncreate any main-code\n\n"
   ]
  },
  {
   "cell_type": "code",
   "execution_count": null,
   "metadata": {},
   "outputs": [],
   "source": [
    "# exports\ndef main():\n    pass\n    A, B = 1, 8 # the left and right boundaries\n    INTEGRAL, ERROR = quad(fun, A, B)\n    import numpy as np\n    N = 5 # the number of points\n    XINT = np.linspace(A, B, N)\n    YINT = fun(XINT)\n    print(XINT)\n    print(YINT)\n    INTEGRAL_TRAPEZOID = sum((XINT[1:] - XINT[:-1]) * (YINT[1:] + YINT[:-1]) / 2)\n    print(\"The integral is:\", INTEGRAL, \"+/-\", ERROR)\n    print(\"The trapezoid approximation with\", len(XINT), \"points is:\",\n          INTEGRAL_TRAPEZOID)\n    #%matplotlib inline\n    XBAR = np.linspace(0, 10, 200)\n    YBAR = fun(XBAR)\n    plt.plot(XBAR, YBAR, lw=2)\n    plt.axis([0, 9, 0, 140])\n    plt.fill_between(XINT, 0, YINT, facecolor='gray', alpha=0.4)\n    plt.text(0.5 * (A + B), 30,r\"$\\int_A^B fun(XBAR)dxbar$\",\n    \t horizontalalignment='center', fontsize=20);"
   ]
  },
  {
   "cell_type": "markdown",
   "metadata": {},
   "source": [
    "### Exporting Functions\n\n"
   ]
  },
  {
   "cell_type": "markdown",
   "metadata": {},
   "source": [
    "We start by importing the `@export` \"decorator\" that we use to define\npublic functions explicitly.\n\nThis block when tangled is placed at the top in our module with all\nother imports.\n\n    #+BEGIN_SRC python :session picoutput :noweb-ref \"picture_output.imports\"\n\n"
   ]
  },
  {
   "cell_type": "code",
   "execution_count": null,
   "metadata": {},
   "outputs": [],
   "source": [
    "from ob_example.utils.libutils import export"
   ]
  },
  {
   "cell_type": "markdown",
   "metadata": {},
   "source": [
    "### Package setup\n\n"
   ]
  },
  {
   "cell_type": "markdown",
   "metadata": {},
   "source": [
    "To create a python package we need to create an `__init__.py` file in\nthe root of the package directory. Note the `:tangle __init__.py`\nheader argument. [Relative imports](https://stackoverflow.com/a/49375740/7612826).\n\n    #+BEGIN_SRC python :noweb-ref \"\" :tangle __init__.py\n\n"
   ]
  },
  {
   "cell_type": "code",
   "execution_count": null,
   "metadata": {},
   "outputs": [],
   "source": [
    "# from ob_example.plotter.picture_output import *"
   ]
  },
  {
   "cell_type": "markdown",
   "metadata": {},
   "source": [
    "    #+END_SRC\n\nTODO: consider # exports plotter.\\_<sub>init</sub>\\_\\_\nnote that nbdev<sub>diff</sub><sub>nbs</sub> fails when using #exports <span class=\"underline\"><span class=\"underline\">init</span></span> above\n\n"
   ]
  },
  {
   "cell_type": "code",
   "execution_count": null,
   "metadata": {},
   "outputs": [],
   "source": [
    "# from ob_example.utils.libutils import export"
   ]
  },
  {
   "cell_type": "markdown",
   "metadata": {},
   "source": [
    "### Example Function and Test\n\n"
   ]
  },
  {
   "cell_type": "code",
   "execution_count": null,
   "metadata": {},
   "outputs": [],
   "source": [
    "# exports\n@export\ndef fun(x_num):\n    return (x_num-3)*(x_num-5)*(x_num-7)+85"
   ]
  },
  {
   "cell_type": "markdown",
   "metadata": {},
   "source": [
    "A basic integral.\n\n"
   ]
  },
  {
   "cell_type": "code",
   "execution_count": null,
   "metadata": {},
   "outputs": [],
   "source": [
    "def test_fun():\n    \"\"\"Testing the base case for the integral\"\"\"\n    assert fun(3) == 85"
   ]
  },
  {
   "cell_type": "markdown",
   "metadata": {},
   "source": [
    "Always include a test\n\nand when you find a bug and fixes it, make sure to add another test\nthat ensures the fix works. Sometimes a fix breaks the function for\nother input that worked previously, so tests should accumulate.\n\n"
   ]
  },
  {
   "cell_type": "markdown",
   "metadata": {},
   "source": [
    "### Trapezoid approximation\n\n"
   ]
  },
  {
   "cell_type": "markdown",
   "metadata": {},
   "source": [
    "We’re going to approximate the integral via the trapezoid rule and\nalso calculate it to a finer degree.\n\n"
   ]
  },
  {
   "cell_type": "code",
   "execution_count": null,
   "metadata": {},
   "outputs": [],
   "source": [
    "A, B = 1, 8 # the left and right boundaries"
   ]
  },
  {
   "cell_type": "markdown",
   "metadata": {},
   "source": [
    "### Integral calculation\n\n"
   ]
  },
  {
   "cell_type": "markdown",
   "metadata": {},
   "source": [
    "I found the quad function from scipy for a precise integral\ncalculation. For the trapezoid calculation, I found [this explanation](http://tutorial.math.lamar.edu/Classes/CalcII/ApproximatingDefIntegrals.aspx)\nsimilar to what many of us learn in our later school-years, but not\nsure how to do that in python. Let's experiment!\n\n"
   ]
  },
  {
   "cell_type": "code",
   "execution_count": null,
   "metadata": {},
   "outputs": [],
   "source": [
    "from scipy.integrate import quad"
   ]
  },
  {
   "cell_type": "code",
   "execution_count": null,
   "metadata": {},
   "outputs": [
    {
     "name": "stdout",
     "output_type": "stream",
     "text": "[1.   2.75 4.5  6.25 8.  ]\n[ 37.        82.609375  86.875     81.953125 100.      ]"
    }
   ],
   "source": [
    "INTEGRAL, ERROR = quad(fun, A, B)\nimport numpy as np\nN = 5 # the number of points\nXINT = np.linspace(A, B, N)\nYINT = fun(XINT)\nprint(XINT)\nprint(YINT)\nINTEGRAL_TRAPEZOID = sum((XINT[1:] - XINT[:-1]) * (YINT[1:] + YINT[:-1]) / 2)"
   ]
  },
  {
   "cell_type": "markdown",
   "metadata": {},
   "source": [
    "### trapezoid calculation\n\n"
   ]
  },
  {
   "cell_type": "markdown",
   "metadata": {},
   "source": [
    "To do a standard area calculation for a trapezoid we certainly need a\nnumber of x and y values.\n\n"
   ]
  },
  {
   "cell_type": "code",
   "execution_count": null,
   "metadata": {},
   "outputs": [],
   "source": [
    "import numpy as np"
   ]
  },
  {
   "cell_type": "markdown",
   "metadata": {},
   "source": [
    "    #+BEGIN_SRC python :session picoutput :noweb-ref \"trapz_vars\" :exports both\n\n"
   ]
  },
  {
   "cell_type": "code",
   "execution_count": null,
   "metadata": {},
   "outputs": [
    {
     "name": "stdout",
     "output_type": "stream",
     "text": "[1.   2.75 4.5  6.25 8.  ]\n[ 37.        82.609375  86.875     81.953125 100.      ]"
    }
   ],
   "source": [
    "N = 5 # the number of points\nXINT = np.linspace(A, B, N)\nYINT = fun(XINT)\nprint(XINT)\nprint(YINT)"
   ]
  },
  {
   "cell_type": "markdown",
   "metadata": {},
   "source": [
    "We can sum and differentiate the Y and X arrays, before taking the\nproduct in a zip-like manner:\n\n"
   ]
  },
  {
   "cell_type": "code",
   "execution_count": null,
   "metadata": {},
   "outputs": [
    {
     "name": "stdout",
     "output_type": "stream",
     "text": "[119.609375 169.484375 168.828125 181.953125]\n[1.75 1.75 1.75 1.75]"
    }
   ],
   "source": [
    "print(YINT[1:]+YINT[:-1])\nprint(XINT[1:]-XINT[:-1])"
   ]
  },
  {
   "cell_type": "markdown",
   "metadata": {},
   "source": [
    "Yes, that looks plausible. Is 1.75 really the x delta we defined\nearlier though?\n\nLets check with the values we entered before. 8-1 is the x range, and\n5 values would create 4 trapezoids, so:\n\n"
   ]
  },
  {
   "cell_type": "code",
   "execution_count": null,
   "metadata": {},
   "outputs": [
    {
     "name": "stdout",
     "output_type": "stream",
     "text": "1.75"
    }
   ],
   "source": [
    "print((8-1)/4)"
   ]
  },
  {
   "cell_type": "markdown",
   "metadata": {},
   "source": [
    "So it must be right.\n\nLets try and multiply two arrays as well:\n\n"
   ]
  },
  {
   "cell_type": "code",
   "execution_count": null,
   "metadata": {},
   "outputs": [
    {
     "name": "stdout",
     "output_type": "stream",
     "text": "array([209.31640625, 296.59765625, 295.44921875, 318.41796875])"
    }
   ],
   "source": [
    "(XINT[1:] - XINT[:-1]) * (YINT[1:] + YINT[:-1])"
   ]
  },
  {
   "cell_type": "markdown",
   "metadata": {},
   "source": [
    "Looks correct also.\n\nThen for the full calculation we just sum that and divide by 2 as\nexplained why in more detail in the reference above:\n\n    #+BEGIN_SRC python :session picoutput :noweb-ref \"trapz_calc\" :exports both\n\n"
   ]
  },
  {
   "cell_type": "code",
   "execution_count": null,
   "metadata": {},
   "outputs": [
    {
     "name": "stdout",
     "output_type": "stream",
     "text": "559.890625"
    }
   ],
   "source": [
    "sum((XINT[1:] - XINT[:-1]) * (YINT[1:] + YINT[:-1]) / 2)"
   ]
  },
  {
   "cell_type": "markdown",
   "metadata": {},
   "source": [
    "Now, lets see the difference between estimate and the\nprecision-calculation!\n\n    #+BEGIN_SRC python :noweb-ref \"picture_output.main\" :session picoutput :exports both\n\n"
   ]
  },
  {
   "cell_type": "code",
   "execution_count": null,
   "metadata": {},
   "outputs": [
    {
     "name": "stdout",
     "output_type": "stream",
     "text": "The integral is: 565.2499999999999 +/- 6.275535646693696e-12\nThe trapezoid approximation with 5 points is: 559.890625"
    }
   ],
   "source": [
    "print(\"The integral is:\", INTEGRAL, \"+/-\", ERROR)\nprint(\"The trapezoid approximation with\", len(XINT), \"points is:\",\n      INTEGRAL_TRAPEZOID)"
   ]
  },
  {
   "cell_type": "markdown",
   "metadata": {},
   "source": [
    "### Picture\n\n"
   ]
  },
  {
   "cell_type": "markdown",
   "metadata": {},
   "source": [
    "This code block will produce a plot of the function and our trapezoid\napproximation to the integral. We tell Org Babel to save the plot to\na file (which Emacs can display inline) by typing `M-x\norg-toggle-inline-images RET`.\n\n"
   ]
  },
  {
   "cell_type": "code",
   "execution_count": null,
   "metadata": {},
   "outputs": [],
   "source": [
    "import matplotlib.pyplot as plt"
   ]
  },
  {
   "cell_type": "code",
   "execution_count": null,
   "metadata": {},
   "outputs": [],
   "source": [
    "#%matplotlib inline\nXBAR = np.linspace(0, 10, 200)\nYBAR = fun(XBAR)\nplt.plot(XBAR, YBAR, lw=2)\nplt.axis([0, 9, 0, 140])\nplt.fill_between(XINT, 0, YINT, facecolor='gray', alpha=0.4)\nplt.text(0.5 * (A + B), 30,r\"$\\int_A^B fun(XBAR)dxbar$\",\n\t horizontalalignment='center', fontsize=20);"
   ]
  },
  {
   "cell_type": "markdown",
   "metadata": {},
   "source": [
    "### Picture output\n\n"
   ]
  },
  {
   "cell_type": "markdown",
   "metadata": {},
   "source": [
    "![img](./.ob-jupyter/3c32fb7c759f4aaa0f495849bb68683b4895955d.png)\n\n"
   ]
  },
  {
   "cell_type": "markdown",
   "metadata": {},
   "source": [
    "### CLI Arguments\n\n"
   ]
  },
  {
   "cell_type": "code",
   "execution_count": null,
   "metadata": {},
   "outputs": [],
   "source": [
    "# export\nif __name__ == \"__main__\":\n    main()"
   ]
  },
  {
   "cell_type": "markdown",
   "metadata": {},
   "source": [
    "### Export\n\n"
   ]
  },
  {
   "cell_type": "code",
   "execution_count": null,
   "metadata": {},
   "outputs": [],
   "source": [
    "#hide\nfrom nbdev.export import *\nnotebook2script()"
   ]
  },
  {
   "cell_type": "markdown",
   "metadata": {},
   "source": [
    "### Run tests\n\n"
   ]
  },
  {
   "cell_type": "markdown",
   "metadata": {},
   "source": [
    "Tests can be executed directly from org-babel because it has support\nfor most languages including shell/bash. So from this same\nsource-file, we can enter `C-c C-c` on below src-block:\n\n    #PYTHONPATH=\"${path}:$PYTHONPATH\" python3 -m unittest -v \\\n    # nbs.picture_output_test 2>&1\n    shopt -s globstar; cd \"${path}/ob_example\"; pytest . 2>/dev/null; cd -\n\n    cd \"$path\" ; PYTHONPATH=\"${path}:$PYTHONPATH\" nbdev_test_nbs ; cd -\n\nA functional test would be \n\n    cd \"$path\" ; PYTHONPATH=\"${path}:$PYTHONPATH\" \\\n    \t\t       python3 -c \\\n    \t\t       'from ob_example import * ;\\\n    \t\t       print(fun(3)) ;\\\n    \t\t       plotter.picture_output.main() ;'\n    echo ; echo $?\n\n    cd \"$path\" ; PYTHONPATH=\"${path}:$PYTHONPATH\" \\\n    \t  python3 -c \\\n    \t  'from ob_example.plotter.picture_output import fun, main ;\\\n    \t  print(fun(3)) ;\\\n    \t  main() ;'\n    echo ; echo $?\n\n"
   ]
  },
  {
   "cell_type": "markdown",
   "metadata": {},
   "source": [
    "### Extra: libutils\n\n"
   ]
  },
  {
   "cell_type": "markdown",
   "metadata": {},
   "source": [
    "[Reference](https://stackoverflow.com/a/35710527/7612826)\n\nWhen importing the export function from this module, we can use\n@export as decorator for functions we want included in `__all__`.\n\n"
   ]
  },
  {
   "cell_type": "code",
   "execution_count": null,
   "metadata": {},
   "outputs": [],
   "source": [
    "# export utils.libutils\nimport sys\ndef export(fn):\n    mod = sys.modules[fn.__module__]\n    if hasattr(mod, '__all__'):\n        mod.__all__.append(fn.__name__)\n    else:\n        mod.__all__ = [fn.__name__]\n    return fn"
   ]
  }
 ],
 "metadata": {
  "kernelspec": {
   "display_name": "Python 3",
   "language": "python",
   "name": "python3"
  }
 },
 "nbformat": 4,
 "nbformat_minor": 0
}
